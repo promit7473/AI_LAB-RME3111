{
 "cells": [
  {
   "metadata": {},
   "cell_type": "markdown",
   "source": "**<h2>Implementing stack using python</h2>**",
   "id": "894f979622424212"
  },
  {
   "metadata": {
    "jupyter": {
     "is_executing": true
    }
   },
   "cell_type": "code",
   "source": [
    "# Stack implementation using a list\n",
    "my_stack = [0]*5\n",
    "top = -1  # Initializing the top pointer\n",
    "\n",
    "# Push operation\n",
    "def push(stack, n):/home/mhpromit7473/PycharmProjects/scientificProject\n",
    "    global top\n",
    "    if top < len(stack) - 1:  # Checking if the stack is not full\n",
    "        top += 1\n",
    "        stack[top] = n\n",
    "    else:\n",
    "        print(\"Stack Overflow\")\n",
    "\n",
    "# Pop operation\n",
    "def pop(stack):\n",
    "    global top\n",
    "    if top >= 0:  # Check if the stack is not empty\n",
    "        popped_value = stack[top]\n",
    "        stack[top] = 0  # Optional: Clear the value (just to show it's popped)\n",
    "        top -= 1\n",
    "        return popped_value\n",
    "    else:\n",
    "        print(\"Stack Underflow\")\n",
    "        return None\n",
    "\n",
    "# Example usage\n",
    "push(my_stack, 4)\n",
    "push(my_stack, 5)\n",
    "push(my_stack, 6)\n",
    "print(\"before pop operation on stack\", my_stack)\n",
    "pop(my_stack)  # Pop the last pushed element (5)\n",
    "\n",
    "print(\"Stack after pop operations:\", my_stack)\n"
   ],
   "id": "7a83033eecbb0711",
   "outputs": [],
   "execution_count": null
  },
  {
   "metadata": {},
   "cell_type": "markdown",
   "source": "**<h2>Implementing Queue Class in Python</h2>**",
   "id": "cfb282425964e346"
  },
  {
   "metadata": {
    "jupyter": {
     "is_executing": true
    }
   },
   "cell_type": "code",
   "source": [
    "class Queue():\n",
    "\n",
    "    def __init__(self, k):\n",
    "        self.k = k\n",
    "        self.queue = [None] * k\n",
    "        self.head = self.tail = -1\n",
    "\n",
    "    def enqueue(self, data):\n",
    "        # Check if the queue is full\n",
    "        if (self.tail == self.k - 1):\n",
    "            print(\"The queue is full\\n\")\n",
    "        else:\n",
    "            if self.head == -1:  # Set head to 0 when enqueuing the first element\n",
    "                self.head = 0\n",
    "            self.tail = self.tail + 1\n",
    "            self.queue[self.tail] = data\n",
    "\n",
    "    def dequeue(self):\n",
    "        # Check if the queue is empty\n",
    "        if self.head == -1 or self.head > self.tail:\n",
    "            print(\"The queue is empty\\n\")\n",
    "        else:\n",
    "            # Dequeue the element\n",
    "            temp = self.queue[self.head]\n",
    "            print(\"Dequeued:\", temp)\n",
    "            self.head += 1\n",
    "\n",
    "            # Reset the queue if empty after dequeue\n",
    "            if self.head > self.tail:\n",
    "                self.head = self.tail = -1\n",
    "\n",
    "    def printQueue(self):\n",
    "        # Print the queue contents from head to tail\n",
    "        if self.head == -1:\n",
    "            print(\"The queue is empty\\n\")\n",
    "        else:\n",
    "            for i in range(self.head, self.tail + 1):\n",
    "                print(self.queue[i], end=\" \")\n",
    "            print()\n",
    "\n",
    "\n",
    "# Example usage\n",
    "q = Queue(5)\n",
    "q.enqueue(5)\n",
    "q.enqueue(6)\n",
    "q.enqueue(3)\n",
    "q.enqueue(4)\n",
    "q.enqueue(1)\n",
    "\n",
    "q.dequeue()  # Dequeues 5\n",
    "q.dequeue()  # Dequeues 6\n",
    "\n",
    "q.printQueue()  # Prints remaining queue: 3 4 1\n"
   ],
   "id": "f53c6265f8929182",
   "outputs": [],
   "execution_count": null
  },
  {
   "metadata": {},
   "cell_type": "raw",
   "source": "",
   "id": "e69e0bc046f7bf07"
  }
 ],
 "metadata": {
  "kernelspec": {
   "display_name": "Python 3",
   "language": "python",
   "name": "python3"
  },
  "language_info": {
   "codemirror_mode": {
    "name": "ipython",
    "version": 2
   },
   "file_extension": ".py",
   "mimetype": "text/x-python",
   "name": "python",
   "nbconvert_exporter": "python",
   "pygments_lexer": "ipython2",
   "version": "2.7.6"
  }
 },
 "nbformat": 4,
 "nbformat_minor": 5
}
