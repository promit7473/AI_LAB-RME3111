{
 "cells": [
  {
   "metadata": {},
   "cell_type": "markdown",
   "source": "## File Reading ##",
   "id": "2f693510b1954121"
  },
  {
   "cell_type": "code",
   "id": "initial_id",
   "metadata": {
    "collapsed": true,
    "ExecuteTime": {
     "end_time": "2024-11-26T06:48:23.880417Z",
     "start_time": "2024-11-26T06:48:23.875165Z"
    }
   },
   "source": [
    "def parse_input(filename):\n",
    "    with open(filename, 'r') as file:\n",
    "        lines = file.readlines() # Read all lines into a list\n",
    "\n",
    "    # Extract the total number of nodes (not used directly)\n",
    "    total_nodes = int(lines[0].strip())\n",
    "\n",
    "    # Extract the number of non-leaf and leaf nodes\n",
    "    non_leaf, leaf = map(int, lines[1].strip().split())\n",
    "\n",
    "    # Initialize dictionaries for tree structure and utilities\n",
    "    tree = {}\n",
    "    utilities = {}\n",
    "\n",
    "    # Parse the non-leaf nodes and their children\n",
    "    for i in range(2, 2 + non_leaf):\n",
    "        parts = list(map(int, lines[i].strip().split())) # Convert line to list of integers\n",
    "        node, children = parts[0], parts[1:] # First number is the node, rest are its children\n",
    "        tree[node] = children # Add to the tree dictionary\n",
    "\n",
    "    # Parse the leaf nodes and their utility values\n",
    "    for i in range(2 + non_leaf, 2 + non_leaf + leaf):\n",
    "        node, value = map(int, lines[i].strip().split())\n",
    "        utilities[node] = value # Add to the utilities dictionary\n",
    "\n",
    "    return total_nodes, tree, utilities"
   ],
   "outputs": [],
   "execution_count": 7
  },
  {
   "metadata": {
    "ExecuteTime": {
     "end_time": "2024-11-26T06:48:26.601996Z",
     "start_time": "2024-11-26T06:48:26.598080Z"
    }
   },
   "cell_type": "code",
   "source": [
    "file = 'tree.txt'\n",
    "parse_input(file)"
   ],
   "id": "a8d4bc73f1243582",
   "outputs": [
    {
     "data": {
      "text/plain": [
       "(25,\n",
       " {0: [1, 2, 3],\n",
       "  1: [4, 5],\n",
       "  2: [6, 7, 8],\n",
       "  3: [9, 10],\n",
       "  4: [11, 12],\n",
       "  5: [13, 14],\n",
       "  6: [15, 16],\n",
       "  7: [17, 18],\n",
       "  8: [19, 20],\n",
       "  9: [21, 22],\n",
       "  10: [23, 24]},\n",
       " {11: 4,\n",
       "  12: 3,\n",
       "  13: 6,\n",
       "  14: 2,\n",
       "  15: 2,\n",
       "  16: 1,\n",
       "  17: 9,\n",
       "  18: 5,\n",
       "  19: 3,\n",
       "  20: 1,\n",
       "  21: 5,\n",
       "  22: 4,\n",
       "  23: 7,\n",
       "  24: 5})"
      ]
     },
     "execution_count": 8,
     "metadata": {},
     "output_type": "execute_result"
    }
   ],
   "execution_count": 8
  },
  {
   "metadata": {
    "ExecuteTime": {
     "end_time": "2024-11-26T06:48:28.787369Z",
     "start_time": "2024-11-26T06:48:28.782614Z"
    }
   },
   "cell_type": "code",
   "source": [
    "import sys\n",
    "\n",
    "def minimax(node, depth, is_maximizing_player, alpha, beta, tree, utilities):\n",
    "    if depth == 0 or not tree[node]:\n",
    "        return utilities[node]\n",
    "\n",
    "    if is_maximizing_player:\n",
    "        max_eval = -sys.maxsize - 1\n",
    "        for child in tree[node]:\n",
    "            eval = minimax(child, depth - 1, False, alpha, beta, tree, utilities)\n",
    "            max_eval = max(max_eval, eval)\n",
    "            alpha = max(alpha, eval)\n",
    "            if beta <= alpha:\n",
    "                break  # Beta-cutoff\n",
    "        return max_eval\n",
    "    else:\n",
    "        min_eval = sys.maxsize\n",
    "        for child in tree[node]:\n",
    "            eval = minimax(child, depth - 1, True, alpha, beta, tree, utilities)\n",
    "            min_eval = min(min_eval, eval)\n",
    "            beta = min(beta, eval)\n",
    "            if beta <= alpha:\n",
    "                break  # Alpha-cutoff\n",
    "        return min_eval\n",
    "\n",
    "def alpha_beta_pruning(total_nodes, tree, utilities, depth):\n",
    "    root = 0\n",
    "    return minimax(root, depth, True, -sys.maxsize - 1, sys.maxsize, tree, utilities)\n",
    "\n",
    "# Usage\n",
    "total_nodes, tree, utilities = parse_input(file)\n",
    "result = alpha_beta_pruning(total_nodes, tree, utilities, 3)\n",
    "print(result)"
   ],
   "id": "c977fddd1e244dcf",
   "outputs": [
    {
     "name": "stdout",
     "output_type": "stream",
     "text": [
      "5\n"
     ]
    }
   ],
   "execution_count": 9
  },
  {
   "metadata": {},
   "cell_type": "code",
   "outputs": [],
   "execution_count": null,
   "source": "",
   "id": "c73b2b943387ae0a"
  }
 ],
 "metadata": {
  "kernelspec": {
   "display_name": "Python 3",
   "language": "python",
   "name": "python3"
  },
  "language_info": {
   "codemirror_mode": {
    "name": "ipython",
    "version": 2
   },
   "file_extension": ".py",
   "mimetype": "text/x-python",
   "name": "python",
   "nbconvert_exporter": "python",
   "pygments_lexer": "ipython2",
   "version": "2.7.6"
  }
 },
 "nbformat": 4,
 "nbformat_minor": 5
}
